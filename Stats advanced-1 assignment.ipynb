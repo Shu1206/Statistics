{
 "cells": [
  {
   "cell_type": "markdown",
   "metadata": {},
   "source": [
    "1. Define the z-statistic and explain its relationship to the standard normal distribution. How is the\n",
    "z-statistic used in hypothesis testing?\n",
    "\n",
    "=> The z-statistic (or z-score) measures how many standard deviations a data point (or sample mean) is away from the population mean. It's calculated as:\n",
    "\n",
    "z=X−u/𝜎\n",
    "where X is the observed value,u is the population mean, and 𝜎 is the population standard deviation.\n",
    "\n",
    "The z-statistic relates to the standard normal distribution, which has a mean of 0 and a standard deviation of 1. The z-score helps to standardize different data points or sample means so they can be compared to this standard distribution.\n",
    "\n",
    "In hypothesis testing, the z-statistic is used to determine how far the observed data is from the null hypothesis. A high z-score means the observation is far from the null hypothesis, potentially leading to its rejection."
   ]
  },
  {
   "cell_type": "markdown",
   "metadata": {},
   "source": [
    "2. What is a p-value, and how is it used in hypothesis testing? What does it mean if the p-value is very small (e.g., 0.01)?\n",
    "\n",
    "=> A p-value is the probability of observing a test statistic as extreme or more than the one observed, assuming the null hypothesis is true. It helps measure the strength of evidence against the null hypothesis.\n",
    "\n",
    "A small p-value (e.g., 0.01) indicates strong evidence against the null hypothesis, suggesting that the observed effect is unlikely due to random chance.\n",
    "\n",
    "A large p-value indicates weak evidence, meaning the data is consistent with the null hypothesis.\n",
    "In hypothesis testing, we compare the p-value to a predetermined significance level (usually 0.05). If the p-value is less than this level, we reject the null hypothesis."
   ]
  },
  {
   "cell_type": "markdown",
   "metadata": {},
   "source": [
    "3. Compare and contrast the binomial and Bernoulli distributions.\n",
    "=> A Bernoulli distribution models a single binary outcome (success or failure), with a probability \n",
    "p of success and 1−p. It has two outcomes (0 or 1) and is a special case of the binomial distribution with only one trial.\n",
    "A binomial distribution generalizes the Bernoulli distribution by modeling the number of successes in n independent Bernoulli trials, each with the same probability p of success. It represents repeated experiments or trials.\n",
    "\n",
    "Both distributions deal with binary outcomes, but Bernoulli is for a single trial, while binomial is for multiple trials."
   ]
  },
  {
   "cell_type": "markdown",
   "metadata": {},
   "source": [
    "4. Under what conditions is the binomial distribution used, and how does it relate to the Bernoulli distribution?\n",
    "\n",
    "=>The binomial distribution is used under the following conditions:\n",
    "(i) There are a fixed number of trials (n).\n",
    "(ii) Each trial is independent.\n",
    "(iii) Each trial has only two possible outcomes: success or failure.\n",
    "(iv) The probability of success (p) is constant for each trial.\n",
    "The binomial distribution is essentially the sum of multiple Bernoulli trials. A binomial random variable counts the number of successes in these n Bernoulli trials."
   ]
  },
  {
   "cell_type": "markdown",
   "metadata": {},
   "source": [
    "5. What are the key properties of the Poisson distribution, and when is it appropriate to use this distribution?\n",
    "=> The Poisson distribution describes the number of events occurring in a fixed interval of time or space, under the assumption that:\n",
    "Events occur independently.\n",
    "The rate or average of events is constant.\n",
    "Two events cannot occur simultaneously.\n",
    "Key properties:\n",
    "Mean = Variance = λ, where λ is the average number of events in the interval.\n",
    "The Poisson distribution is appropriate when modeling rare events, such as the number of phone calls received by a call center in an hour or the number of emails received per day."
   ]
  },
  {
   "cell_type": "markdown",
   "metadata": {},
   "source": [
    "6: Define the terms \"probability distribution\" and \"probability density function\" (PDF). How does a PDF differ from a probability mass function (PMF)?\n",
    "\n",
    "=> A probability distribution describes how the values of a random variable are distributed. It shows the possibility of different outcomes.\n",
    "\n",
    "A probability density function (PDF) applies to continuous random variables. It describes the possibility of a variable taking on a range of values, and the area under the PDF curve represents probabilities.\n",
    "\n",
    "A probability mass function (PMF) is used for discrete random variables, assigning probabilities to specific outcomes.\n",
    "The key difference:\n",
    "PMF is for discrete random variables (specific points).\n",
    "PDF is for continuous random variables (ranges)."
   ]
  },
  {
   "cell_type": "markdown",
   "metadata": {},
   "source": [
    "7. Explain the Central Limit Theorem (CLT) with an example.\n",
    "=> The Central Limit Theorem (CLT) states that the distribution of the sample mean approaches a normal distribution as the sample size increases, regardless of the population's distribution, provided the samples are independent and identically distributed.\n",
    "\n",
    "Eg- If you take many samples of size 30 from a skewed distribution (e.g., exponential distribution), the distribution of the sample means will approximate a normal distribution as the number of samples increases."
   ]
  },
  {
   "cell_type": "markdown",
   "metadata": {},
   "source": [
    "8. Compare z-scores and t-scores. When should you use a z-score, and when should a t-score be applied instead?\n",
    "\n",
    "=> Z-scores are used when the population standard deviation is known and the sample size is large (typically n≥30).\n",
    "\n",
    "T-scores are used when the population standard deviation is unknown, and the sample size is small (n<30). The t-distribution accounts for the added uncertainty of estimating the population standard deviation from the sample.\n",
    "\n",
    "Use:\n",
    "Use z-scores when you have a large sample and know the population standard deviation.\n",
    "Use t-scores when the sample size is small, and the population standard deviation is unknown.\n"
   ]
  },
  {
   "cell_type": "markdown",
   "metadata": {},
   "source": [
    "9. Given a sample mean of 105, a population mean of 100, a standard deviation of 15, and a sample size of 25, calculate the z-score and p-value. Based on a significance level of 0.05, do you reject or fail to reject the null hypothesis?"
   ]
  },
  {
   "cell_type": "code",
   "execution_count": 1,
   "metadata": {},
   "outputs": [
    {
     "data": {
      "text/plain": [
       "(1.6666666666666667, np.float64(0.09558070454562939))"
      ]
     },
     "execution_count": 1,
     "metadata": {},
     "output_type": "execute_result"
    }
   ],
   "source": [
    "import scipy.stats as stats\n",
    "\n",
    "# Given values\n",
    "s_mean = 105\n",
    "p_mean = 100\n",
    "std_dev = 15\n",
    "size = 25\n",
    "\n",
    "# Z-score formula\n",
    "z_score = (s_mean - p_mean) / (std_dev / (size ** 0.5))\n",
    "\n",
    "# P-value\n",
    "p_value = 2 * (1 - stats.norm.cdf(abs(z_score)))\n",
    "\n",
    "# Output\n",
    "z_score, p_value\n"
   ]
  },
  {
   "cell_type": "markdown",
   "metadata": {},
   "source": [
    "If the p-value is less than 0.05, we reject the null hypothesis.\n",
    "\n",
    "\n"
   ]
  },
  {
   "cell_type": "markdown",
   "metadata": {},
   "source": [
    "10. Simulate a binomial distribution with 10 trials and a probability of success of 0.6 using Python. Generate 1,000 samples and plot the distribution. What is the expected mean and variance?"
   ]
  },
  {
   "cell_type": "code",
   "execution_count": 3,
   "metadata": {},
   "outputs": [
    {
     "data": {
      "image/png": "[encoded data removed]",
      "text/plain": [
       "<Figure size 640x480 with 1 Axes>"
      ]
     },
     "metadata": {},
     "output_type": "display_data"
    },
    {
     "data": {
      "text/plain": [
       "(np.float64(5.958), np.float64(2.3002360000000004))"
      ]
     },
     "execution_count": 3,
     "metadata": {},
     "output_type": "execute_result"
    }
   ],
   "source": [
    "import numpy as np\n",
    "import matplotlib.pyplot as plt\n",
    "\n",
    "trials = 10\n",
    "psuccess = 0.6\n",
    "sample = 1000\n",
    "\n",
    "samples = np.random.binomial(trials, psuccess, sample)\n",
    "\n",
    "mean = np.mean(samples)\n",
    "variance = np.var(samples)\n",
    "\n",
    "plt.hist(samples, bins=range(trials+2), density=True, alpha=0.75, color='blue')\n",
    "plt.title('Binomial Distribution (n=10, p=0.6)')\n",
    "plt.xlabel('Number of Successes')\n",
    "plt.ylabel('Probability')\n",
    "plt.show()\n",
    "\n",
    "mean, variance\n"
   ]
  }
 ],
 "metadata": {
  "kernelspec": {
   "display_name": "Python 3",
   "language": "python",
   "name": "python3"
  },
  "language_info": {
   "codemirror_mode": {
    "name": "ipython",
    "version": 3
   },
   "file_extension": ".py",
   "mimetype": "text/x-python",
   "name": "python",
   "nbconvert_exporter": "python",
   "pygments_lexer": "ipython3",
   "version": "3.11.1"
  }
 },
 "nbformat": 4,
 "nbformat_minor": 2
}
